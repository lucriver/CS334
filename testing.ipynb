{
 "cells": [
  {
   "cell_type": "code",
   "execution_count": 2,
   "metadata": {},
   "outputs": [],
   "source": [
    "import importlib\n",
    "import comp_viz\n",
    "from comp_viz.comp_viz import CompViz, CompVizModel"
   ]
  },
  {
   "cell_type": "code",
   "execution_count": 3,
   "metadata": {},
   "outputs": [
    {
     "data": {
      "text/plain": [
       "<module 'comp_viz' from 'c:\\\\Users\\\\lucas\\\\OneDrive\\\\Documents\\\\GitHub\\\\CS334\\\\comp_viz\\\\__init__.py'>"
      ]
     },
     "execution_count": 3,
     "metadata": {},
     "output_type": "execute_result"
    }
   ],
   "source": [
    "importlib.reload(comp_viz)"
   ]
  },
  {
   "cell_type": "code",
   "execution_count": 4,
   "metadata": {},
   "outputs": [
    {
     "name": "stdout",
     "output_type": "stream",
     "text": [
      "[\n",
      "  \"yolo3_mobilenet1.0_coco\",\n",
      "  \"ssd_512_resnet50_v1_coco\",\n",
      "  \"center_net_resnet101_v1b_dcnv2_coco\",\n",
      "  \"yolo3_darknet53_coco\",\n",
      "  \"faster_rcnn_fpn_syncbn_resnest269_coco\"\n",
      "]\n"
     ]
    }
   ],
   "source": [
    "CompViz.list_networks()"
   ]
  },
  {
   "cell_type": "code",
   "execution_count": 4,
   "metadata": {},
   "outputs": [],
   "source": [
    "import mxnet\n",
    "import gluoncv\n",
    "import json"
   ]
  },
  {
   "cell_type": "code",
   "execution_count": 5,
   "metadata": {},
   "outputs": [
    {
     "ename": "SyntaxError",
     "evalue": "invalid syntax (<ipython-input-5-4cf4f10edf52>, line 1)",
     "output_type": "error",
     "traceback": [
      "\u001b[1;36m  File \u001b[1;32m\"<ipython-input-5-4cf4f10edf52>\"\u001b[1;36m, line \u001b[1;32m1\u001b[0m\n\u001b[1;33m    import\u001b[0m\n\u001b[1;37m           ^\u001b[0m\n\u001b[1;31mSyntaxError\u001b[0m\u001b[1;31m:\u001b[0m invalid syntax\n"
     ]
    }
   ],
   "source": [
    "import "
   ]
  },
  {
   "cell_type": "code",
   "execution_count": null,
   "metadata": {},
   "outputs": [
    {
     "name": "stdout",
     "output_type": "stream",
     "text": [
      "{\n",
      "  \"networks\": [\n",
      "    \"yolo3_mobilenet1.0_coco\",\n",
      "    \"ssd_512_resnet50_v1_coco\",\n",
      "    \"center_net_resnet101_v1b_dcnv2_coco\",\n",
      "    \"yolo3_darknet53_coco\",\n",
      "    \"faster_rcnn_fpn_syncbn_resnest269_coco\"\n",
      "  ]\n",
      "}\n"
     ]
    }
   ],
   "source": [
    "with open('comp_viz/config.json','r') as f:\n",
    "  thing = json.load(f)\n",
    "print(json.dumps(thing,indent=2))"
   ]
  },
  {
   "cell_type": "code",
   "execution_count": null,
   "metadata": {},
   "outputs": [
    {
     "name": "stdout",
     "output_type": "stream",
     "text": [
      "['yolo3_mobilenet1.0_coco', 'ssd_512_resnet50_v1_coco', 'center_net_resnet101_v1b_dcnv2_coco', 'yolo3_darknet53_coco', 'faster_rcnn_fpn_syncbn_resnest269_coco']\n"
     ]
    }
   ],
   "source": [
    "print(thing['networks'])"
   ]
  },
  {
   "cell_type": "code",
   "execution_count": 19,
   "metadata": {},
   "outputs": [
    {
     "name": "stdout",
     "output_type": "stream",
     "text": [
      "Welcome to Lucas' computer vision detector!\n",
      "Please choose a model:\n",
      "0 yolo3_mobilenet1.0_coco\n",
      "1 ssd_512_resnet50_v1_coco\n",
      "2 center_net_resnet101_v1b_dcnv2_coco\n",
      "3 yolo3_darknet53_coco\n",
      "4 faster_rcnn_fpn_syncbn_resnest269_coco\n",
      "(For details of a model, make your numerical choice preceeded by d. Ex: d0 or d1 etc..)\n"
     ]
    }
   ],
   "source": [
    "from comp_viz.comp_viz import CompViz, CompVizModel\n",
    "\n",
    "print(\"Welcome to Lucas' computer vision detector!\")\n",
    "print(\"Please choose a model:\")\n",
    "for i, network in enumerate(CompViz.get_networks()):\n",
    "  print(i,network)\n",
    "print(\"(For details of a model, make your numerical choice preceeded by d. Ex: d0 or d1 etc..)\")"
   ]
  },
  {
   "cell_type": "code",
   "execution_count": null,
   "metadata": {},
   "outputs": [],
   "source": []
  }
 ],
 "metadata": {
  "interpreter": {
   "hash": "63fd5069d213b44bf678585dea6b12cceca9941eaf7f819626cde1f2670de90d"
  },
  "kernelspec": {
   "display_name": "Python 3.9.7 64-bit",
   "language": "python",
   "name": "python3"
  },
  "language_info": {
   "codemirror_mode": {
    "name": "ipython",
    "version": 3
   },
   "file_extension": ".py",
   "mimetype": "text/x-python",
   "name": "python",
   "nbconvert_exporter": "python",
   "pygments_lexer": "ipython3",
   "version": "3.8.5"
  },
  "orig_nbformat": 4
 },
 "nbformat": 4,
 "nbformat_minor": 2
}
